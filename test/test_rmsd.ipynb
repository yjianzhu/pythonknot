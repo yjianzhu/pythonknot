{
 "cells": [
  {
   "cell_type": "code",
   "execution_count": 1,
   "metadata": {},
   "outputs": [
    {
     "name": "stdout",
     "output_type": "stream",
     "text": [
      "(10000, 300, 3) time cost: 5.614053964614868\n"
     ]
    }
   ],
   "source": [
    "import numpy as np\n",
    "import matplotlib.pyplot as plt\n",
    "import pythonknot.alexander_poly as ap\n",
    "import pythonknot\n",
    "import time\n",
    "\n",
    "# read data \n",
    "time_start = time.time()\n",
    "traj = ap.read_xyz(\"traj_knot31_L300_close.txt\")\n",
    "time_end = time.time()\n",
    "print(traj.shape,\"time cost:\",time_end-time_start)"
   ]
  },
  {
   "cell_type": "code",
   "execution_count": 4,
   "metadata": {},
   "outputs": [
    {
     "name": "stdout",
     "output_type": "stream",
     "text": [
      "[3.89807695e-15 4.80024847e+00 6.30415990e+00 6.46100086e+00\n",
      " 7.15530616e+00 8.19816432e+00 8.85616919e+00 9.28021901e+00\n",
      " 9.82451509e+00]\n"
     ]
    }
   ],
   "source": [
    "from pythonknot import rmsd\n",
    "\n",
    "print(rmsd.rmsd_ref(traj[1:10],traj[1]))"
   ]
  }
 ],
 "metadata": {
  "kernelspec": {
   "display_name": "yongjian_conda",
   "language": "python",
   "name": "python3"
  },
  "language_info": {
   "codemirror_mode": {
    "name": "ipython",
    "version": 3
   },
   "file_extension": ".py",
   "mimetype": "text/x-python",
   "name": "python",
   "nbconvert_exporter": "python",
   "pygments_lexer": "ipython3",
   "version": "3.10.9"
  }
 },
 "nbformat": 4,
 "nbformat_minor": 2
}
