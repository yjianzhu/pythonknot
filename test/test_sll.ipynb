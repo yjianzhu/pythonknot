{
 "cells": [
  {
   "cell_type": "code",
   "execution_count": 1,
   "metadata": {},
   "outputs": [],
   "source": [
    "# calculate the SLL invariant for a given set of points\n",
    "\n",
    "import numpy as np\n",
    "import pythonknot.alexander_poly as ap\n",
    "\n",
    "points = ap.read_xyz(\"traj_knot31_L300_close.txt\")"
   ]
  },
  {
   "cell_type": "code",
   "execution_count": 2,
   "metadata": {},
   "outputs": [
    {
     "name": "stdout",
     "output_type": "stream",
     "text": [
      "(10000, 300, 3)\n"
     ]
    }
   ],
   "source": [
    "print(points.shape)"
   ]
  },
  {
   "cell_type": "code",
   "execution_count": 6,
   "metadata": {},
   "outputs": [],
   "source": [
    "# define the function to calculate the SLL invariant\n",
    "# $M_{ij}=(\\dot{r}_i\\times\\dot{r}_j)\\cdot\\frac{\\vec{r}_i-\\vec{r}_j}{|\\vec{r}_i-\\vec{r}_j|^3}$\n",
    "# r_i is the position of the i-th point\n",
    "# \\dot{r}_i is the tangent vector at the i-th point, use finite difference to calculate it\n",
    "# $SLL=\\frac1{8\\pi}\\sum_{i=4}^N\\sum_{j=3}^{i-1}\\sum_{k=2}^{j-1}\\sum_{\\ell=1}^{k-1}M_{ik}M_{j\\ell}$\n",
    "def compute_Mij(r_i,r_j,dr_i,dr_j):\n",
    "    r_ij = r_i - r_j\n",
    "    r_ij_norm = np.linalg.norm(r_ij)\n",
    "    return np.dot(np.cross(dr_i,dr_j),r_ij)/r_ij_norm**3\n",
    "\n",
    "def calculate_dr(points,chain_type='open'):\n",
    "    n = points.shape[0]\n",
    "    dr = np.zeros((n,3))\n",
    "    for i in range(1,n-1):\n",
    "        dr[i] = (points[i+1]-points[i-1])/2\n",
    "    if chain_type == 'ring':\n",
    "        dr[0] = (points[1]-points[-1])\n",
    "        dr[-1] = (points[0]-points[-2])\n",
    "    elif chain_type == 'open':\n",
    "        dr[0] = (points[1]-points[0])\n",
    "        dr[-1] = (points[-1]-points[-2])\n",
    "    return dr\n",
    "\n",
    "def SLL(points,chain_type='open'):\n",
    "    \"\"\" input is a numpy array of shape (n,3) where n is the number of points\"\"\"\n",
    "    n = points.shape[0]\n",
    "    M = np.zeros((n,n))\n",
    "    d_r = calculate_dr(points,chain_type)\n",
    "    for i in range(n):\n",
    "        for j in range(i+1,n):\n",
    "            M[i,j] = compute_Mij(points[i],points[j],d_r[i],d_r[j])\n",
    "            M[j,i] = M[i,j]\n",
    "    \n",
    "    SLL = 0\n",
    "    for i in range(3,n):\n",
    "        for j in range(2,i):\n",
    "            for k in range(1,j):\n",
    "                for l in range(k):\n",
    "                    SLL += M[i,k]*M[j,l]\n",
    "    return SLL/(8*np.pi)/6"
   ]
  },
  {
   "cell_type": "code",
   "execution_count": 10,
   "metadata": {},
   "outputs": [
    {
     "name": "stdout",
     "output_type": "stream",
     "text": [
      "(1000, 300, 3)\n",
      "0.9979596406177468\n"
     ]
    }
   ],
   "source": [
    "points = ap.read_xyz(\"traj_knot31_L300_open.txt\")\n",
    "print(points.shape)\n",
    "print(SLL(points[0],chain_type='ring'))"
   ]
  }
 ],
 "metadata": {
  "kernelspec": {
   "display_name": "yongjian_conda",
   "language": "python",
   "name": "python3"
  },
  "language_info": {
   "codemirror_mode": {
    "name": "ipython",
    "version": 3
   },
   "file_extension": ".py",
   "mimetype": "text/x-python",
   "name": "python",
   "nbconvert_exporter": "python",
   "pygments_lexer": "ipython3",
   "version": "3.10.9"
  }
 },
 "nbformat": 4,
 "nbformat_minor": 2
}
