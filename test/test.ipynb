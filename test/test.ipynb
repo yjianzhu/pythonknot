{
 "cells": [
  {
   "cell_type": "code",
   "execution_count": null,
   "metadata": {},
   "outputs": [],
   "source": [
    "import numpy as np\n",
    "import matplotlib.pyplot as plt\n",
    "import pythonknot.alexander_poly\n",
    "import time\n",
    "\n",
    "import pythonknot\n",
    "\n",
    "time_start = time.time()\n",
    "traj = pythonknot.alexander_poly.read_xyz(\"traj_knot31_L300_close.txt\")\n",
    "time_end = time.time()\n",
    "print(traj.shape,\"time cost:\",time_end-time_start)"
   ]
  },
  {
   "cell_type": "code",
   "execution_count": 2,
   "metadata": {},
   "outputs": [
    {
     "name": "stdout",
     "output_type": "stream",
     "text": [
      "['__builtins__', '__cached__', '__doc__', '__file__', '__loader__', '__name__', '__package__', '__path__', '__spec__', 'alexander_poly']\n"
     ]
    }
   ],
   "source": [
    "print(dir(pythonknot))"
   ]
  },
  {
   "cell_type": "code",
   "execution_count": 9,
   "metadata": {},
   "outputs": [
    {
     "name": "stdout",
     "output_type": "stream",
     "text": [
      "10000 300\n",
      "(10000, 300, 3) time cost: 360.3040363788605\n"
     ]
    }
   ],
   "source": [
    "from pythonknot import xyz\n",
    "time_start = time.time()\n",
    "traj_python = xyz.read_xyz(\"traj_knot31_L300_close.txt\")\n",
    "time_end = time.time()\n",
    "print(traj_python.shape,\"time cost:\",time_end-time_start)"
   ]
  },
  {
   "cell_type": "code",
   "execution_count": 14,
   "metadata": {},
   "outputs": [
    {
     "name": "stdout",
     "output_type": "stream",
     "text": [
      "1.1985025907356226 0.848443003389147\n",
      "time cost: 0.5624902248382568\n"
     ]
    }
   ],
   "source": [
    "# 计算键长\n",
    "\n",
    "def bond_length(traj):\n",
    "    traj = traj.transpose(1,2,0)\n",
    "    bond = np.linalg.norm(traj[1:]-traj[:-1],axis=1)\n",
    "    bond = bond.flatten()\n",
    "    return bond\n",
    "\n",
    "def bond_length_python(traj):\n",
    "    bond = []\n",
    "    for i in range(traj.shape[0]):\n",
    "        for j in range(traj.shape[1]-1):\n",
    "            bond.append(np.linalg.norm(traj[i,j+1]-traj[i,j]))\n",
    "    return bond\n",
    "\n",
    "time_start = time.time()\n",
    "bond = bond_length(traj)\n",
    "print(bond.max(),bond.min())\n",
    "time_end = time.time()\n",
    "print(\"time cost:\",time_end-time_start)"
   ]
  },
  {
   "cell_type": "code",
   "execution_count": 18,
   "metadata": {},
   "outputs": [
    {
     "name": "stdout",
     "output_type": "stream",
     "text": [
      "1.1985025907356226 0.848443003389147\n",
      "time cost: 9.778927564620972\n"
     ]
    }
   ],
   "source": [
    "time_start = time.time()\n",
    "bond = bond_length_python(traj)\n",
    "bond = np.array(bond)\n",
    "print(bond.max(),bond.min())\n",
    "time_end = time.time()\n",
    "print(\"time cost:\",time_end-time_start)"
   ]
  }
 ],
 "metadata": {
  "kernelspec": {
   "display_name": "yongjian_conda",
   "language": "python",
   "name": "python3"
  },
  "language_info": {
   "codemirror_mode": {
    "name": "ipython",
    "version": 3
   },
   "file_extension": ".py",
   "mimetype": "text/x-python",
   "name": "python",
   "nbconvert_exporter": "python",
   "pygments_lexer": "ipython3",
   "version": "3.10.9"
  }
 },
 "nbformat": 4,
 "nbformat_minor": 2
}
