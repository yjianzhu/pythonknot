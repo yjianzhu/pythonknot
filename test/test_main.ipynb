{
 "cells": [
  {
   "cell_type": "code",
   "execution_count": 1,
   "metadata": {},
   "outputs": [
    {
     "name": "stdout",
     "output_type": "stream",
     "text": [
      "['__builtins__', '__cached__', '__doc__', '__file__', '__loader__', '__name__', '__package__', '__path__', '__spec__']\n",
      "['__builtins__', '__cached__', '__doc__', '__file__', '__loader__', '__name__', '__package__', '__spec__', 'np', 'read_xyz', 'write_xyz']\n",
      "['KMT_chain', '__doc__', '__file__', '__loader__', '__name__', '__package__', '__spec__', 'calculate_knot_size', 'calculate_knot_type', 'calculate_knot_type_open_chain', 'gauss_notation', 'read_xyz']\n"
     ]
    }
   ],
   "source": [
    "import pythonknot\n",
    "import numpy\n",
    "print(dir(pythonknot))  \n",
    "import pythonknot.xyz as xyz\n",
    "print(dir(xyz))\n",
    "\n",
    "import pythonknot.alexander_poly as alexander_poly\n",
    "print(dir(alexander_poly))"
   ]
  },
  {
   "cell_type": "code",
   "execution_count": null,
   "metadata": {},
   "outputs": [],
   "source": [
    "positions = alexander_poly.read_xyz(\"traj_knot31_L300_open.txt\")\n",
    "\n",
    "print(positions.shape)\n",
    "\n",
    "for pos in positions:\n",
    "\n",
    "    pos = alexander_poly.KMT_chain(pos,\"open\")\n",
    "    print(pos)\n",
    "\n",
    "    #pos = numpy.vstack((pos,pos[0]))    # for ring \n",
    "    gauss_notation = alexander_poly.gauss_notation(pos)\n",
    "    print(gauss_notation)"
   ]
  },
  {
   "cell_type": "code",
   "execution_count": 1,
   "metadata": {},
   "outputs": [],
   "source": [
    "import importlib.util\n",
    "import sys\n",
    "\n",
    "def load_so_module(so_path, module_name):\n",
    "    \"\"\"\n",
    "    手动加载 .so 文件作为 Python 模块\n",
    "    \n",
    "    参数:\n",
    "    so_path: .so 文件的完整路径\n",
    "    module_name: 导入后想要使用的模块名称\n",
    "    \n",
    "    返回:\n",
    "    加载的模块对象\n",
    "    \"\"\"\n",
    "    # 创建 module spec\n",
    "    spec = importlib.util.spec_from_file_location(module_name, so_path)\n",
    "    if spec is None:\n",
    "        raise ImportError(f\"无法从 {so_path} 加载模块\")\n",
    "    \n",
    "    # 创建模块对象\n",
    "    module = importlib.util.module_from_spec(spec)\n",
    "    \n",
    "    # 将模块添加到 sys.modules\n",
    "    sys.modules[module_name] = module\n",
    "    \n",
    "    # 执行模块加载\n",
    "    spec.loader.exec_module(module)\n",
    "    \n",
    "    return module\n",
    "\n",
    "# 使用示例:\n",
    "try:\n",
    "    # 假设你的 .so 文件路径是 \"./example.so\"\n",
    "    my_module = load_so_module(\"/home/yongjian/Yongjian_data/my_python/pythonknot/src/HOMFLY/build/homfly.cpython-310-x86_64-linux-gnu.so\", \"homfly\")\n",
    "    \n",
    "except ImportError as e:\n",
    "    print(f\"导入失败: {e}\")"
   ]
  },
  {
   "cell_type": "code",
   "execution_count": 4,
   "metadata": {},
   "outputs": [
    {
     "name": "stdout",
     "output_type": "stream",
     "text": [
      "(10000, 300, 3)\n"
     ]
    }
   ],
   "source": [
    "from pythonknot import homfly\n",
    "from pythonknot import alexander_poly as ap\n",
    "\n",
    "data = ap.read_xyz(\"traj_knot31_L300_close.txt\")\n",
    "print(data.shape)\n"
   ]
  },
  {
   "cell_type": "code",
   "execution_count": 8,
   "metadata": {},
   "outputs": [
    {
     "data": {
      "text/plain": [
       "(63, ' - 2L^2 - L^4 + M^2L^2')"
      ]
     },
     "execution_count": 8,
     "metadata": {},
     "output_type": "execute_result"
    }
   ],
   "source": [
    "homfly.homfly_str(data[3])"
   ]
  }
 ],
 "metadata": {
  "kernelspec": {
   "display_name": "yongjian_conda",
   "language": "python",
   "name": "python3"
  },
  "language_info": {
   "codemirror_mode": {
    "name": "ipython",
    "version": 3
   },
   "file_extension": ".py",
   "mimetype": "text/x-python",
   "name": "python",
   "nbconvert_exporter": "python",
   "pygments_lexer": "ipython3",
   "version": "3.10.9"
  }
 },
 "nbformat": 4,
 "nbformat_minor": 2
}
