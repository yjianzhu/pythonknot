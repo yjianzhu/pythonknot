{
 "cells": [
  {
   "cell_type": "code",
   "execution_count": 1,
   "metadata": {},
   "outputs": [
    {
     "name": "stdout",
     "output_type": "stream",
     "text": [
      "['__builtins__', '__cached__', '__doc__', '__file__', '__loader__', '__name__', '__package__', '__path__', '__spec__']\n",
      "['__builtins__', '__cached__', '__doc__', '__file__', '__loader__', '__name__', '__package__', '__spec__', 'np', 'read_xyz', 'write_xyz']\n",
      "['KMT_chain', '__doc__', '__file__', '__loader__', '__name__', '__package__', '__spec__', 'calculate_knot_size', 'calculate_knot_type', 'calculate_knot_type_open_chain', 'gauss_notation', 'read_xyz']\n"
     ]
    }
   ],
   "source": [
    "import pythonknot\n",
    "import numpy\n",
    "print(dir(pythonknot))  \n",
    "import pythonknot.xyz as xyz\n",
    "print(dir(xyz))\n",
    "\n",
    "import pythonknot.alexander_poly as alexander_poly\n",
    "print(dir(alexander_poly))"
   ]
  },
  {
   "cell_type": "code",
   "execution_count": null,
   "metadata": {},
   "outputs": [],
   "source": [
    "positions = alexander_poly.read_xyz(\"traj_knot31_L300_open.txt\")\n",
    "\n",
    "print(positions.shape)\n",
    "\n",
    "for pos in positions:\n",
    "\n",
    "    pos = alexander_poly.KMT_chain(pos,\"open\")\n",
    "    print(pos)\n",
    "\n",
    "    #pos = numpy.vstack((pos,pos[0]))    # for ring \n",
    "    gauss_notation = alexander_poly.gauss_notation(pos)\n",
    "    print(gauss_notation)"
   ]
  },
  {
   "cell_type": "code",
   "execution_count": 1,
   "metadata": {},
   "outputs": [
    {
     "name": "stdout",
     "output_type": "stream",
     "text": [
      "['Atom', 'PDBParser', '__doc__', '__file__', '__loader__', '__name__', '__package__', '__spec__']\n"
     ]
    }
   ],
   "source": [
    "import importlib.util\n",
    "import sys\n",
    "\n",
    "def load_so_module(so_path, module_name):\n",
    "    \"\"\"\n",
    "    手动加载 .so 文件作为 Python 模块\n",
    "    \n",
    "    参数:\n",
    "    so_path: .so 文件的完整路径\n",
    "    module_name: 导入后想要使用的模块名称\n",
    "    \n",
    "    返回:\n",
    "    加载的模块对象\n",
    "    \"\"\"\n",
    "    # 创建 module spec\n",
    "    spec = importlib.util.spec_from_file_location(module_name, so_path)\n",
    "    if spec is None:\n",
    "        raise ImportError(f\"无法从 {so_path} 加载模块\")\n",
    "    \n",
    "    # 创建模块对象\n",
    "    module = importlib.util.module_from_spec(spec)\n",
    "    \n",
    "    # 将模块添加到 sys.modules\n",
    "    sys.modules[module_name] = module\n",
    "    \n",
    "    # 执行模块加载\n",
    "    spec.loader.exec_module(module)\n",
    "    \n",
    "    return module\n",
    "\n",
    "# 使用示例:\n",
    "try:\n",
    "    # 假设你的 .so 文件路径是 \"./example.so\"\n",
    "    my_module = load_so_module(\"/home/yongjian/Yongjian_data/my_python/pythonknot/src/pdb_parser/build/pdb_parser.cpython-310-x86_64-linux-gnu.so\", \"pdb_parser\")\n",
    "    \n",
    "except ImportError as e:\n",
    "    print(f\"导入失败: {e}\")\n",
    "\n",
    "print(dir(my_module))"
   ]
  },
  {
   "cell_type": "code",
   "execution_count": 1,
   "metadata": {},
   "outputs": [
    {
     "name": "stdout",
     "output_type": "stream",
     "text": [
      "['KMT_chain', '__doc__', '__file__', '__loader__', '__name__', '__package__', '__spec__', 'calculate_knot_size', 'calculate_knot_type', 'calculate_knot_type_open_chain', 'gauss_notation', 'get_alexander_map', 'print_alexander_map', 'read_xyz']\n",
      "36\n",
      "1-5*t^3+4*t^2+t^6+4*t^4-3*t^5-3*t\t8_5\n",
      "4+4*t^2-7*t\t7_4\n",
      "3+3*t^2-7*t\t8_1\n",
      "1\t1\n",
      "1-9*t^3+8*t^2+t^6+8*t^4-4*t^5-4*t\t8_16\n",
      "2+2*t^2-3*t\t5_2\n",
      "1-11*t^3+8*t^2+t^6+8*t^4-4*t^5-4*t\t8_17\n",
      "1-t^3+t^2+t^4-t\t5_1\n",
      "1-7*t^3+6*t^2+t^6+6*t^4-3*t^5-3*t\t8_10\n",
      "1-2*t^3+3*t^2+t^4-2*t\t8_20\n",
      "3+3*t^2-5*t\t7_2\n",
      "2-7*t^3+11*t^2+2*t^4-7*t\t8_13\n",
      "2-6*t^3+7*t^2+2*t^4-6*t\t8_6\n",
      "-2-2*t^2+5*t\t6_1\n",
      "1-5*t^3+5*t^2+t^6+5*t^4-3*t^5-3*t\t8_7\n",
      "2-5*t^3+5*t^2+2*t^4-5*t\t8_4\n",
      "1-4*t^3+5*t^2+t^4-4*t\t8_21\n",
      "4+4*t^2-9*t\t8_3\n",
      "1-7*t^3+13*t^2+t^4-7*t\t8_12\n",
      "1-3*t^3+3*t^2+t^4-3*t\t6_2\n",
      "1-5*t^3+7*t^2+t^4-5*t\t7_6\n",
      "1+t^3+t^6-t^5-t\t8_19\n",
      "2-7*t^3+9*t^2+2*t^4-7*t\t8_11\n",
      "2-6*t^3+9*t^2+2*t^4-6*t\t8_8\n",
      "3-8*t^3+11*t^2+3*t^4-8*t\t8_15\n",
      "1-3*t^3+3*t^2+t^6+3*t^4-3*t^5-3*t\t8_2\n",
      "1-5*t^3+9*t^2+t^4-5*t\t7_7\n",
      "-1-t^2+3*t\t4_1\n",
      "1-t^3+t^2+t^6+t^4-t^5-t\t7_1\n",
      "1-7*t^3+5*t^2+t^6+5*t^4-3*t^5-3*t\t8_9\n",
      "1-3*t^3+5*t^2+t^4-3*t\t6_3\n",
      "2-4*t^3+5*t^2+2*t^4-4*t\t7_5\n",
      "2-3*t^3+3*t^2+2*t^4-3*t\t7_3\n",
      "2-8*t^3+11*t^2+2*t^4-8*t\t8_14\n",
      "1-13*t^3+10*t^2+t^6+10*t^4-5*t^5-5*t\t8_18\n",
      "-1-t^2+t\t3_1\n"
     ]
    }
   ],
   "source": [
    "from pythonknot import homfly\n",
    "from pythonknot import alexander_poly as ap\n",
    "\n",
    "# data = ap.read_xyz(\"traj_knot31_L300_close.txt\")\n",
    "# print(data.shape)\n",
    "\n",
    "print(dir(ap))\n",
    "ap.print_alexander_map()"
   ]
  },
  {
   "cell_type": "code",
   "execution_count": 3,
   "metadata": {},
   "outputs": [],
   "source": [
    "ap.get_alexander_map(\"/home/yongjian/Yongjian_data/my_python/pythonknot/alex_table_13.txt\")\n",
    "#ap.print_alexander_map()"
   ]
  },
  {
   "cell_type": "code",
   "execution_count": 8,
   "metadata": {},
   "outputs": [
    {
     "data": {
      "text/plain": [
       "(63, ' - 2L^2 - L^4 + M^2L^2')"
      ]
     },
     "execution_count": 8,
     "metadata": {},
     "output_type": "execute_result"
    }
   ],
   "source": [
    "homfly.homfly_str(data[3])"
   ]
  },
  {
   "cell_type": "markdown",
   "metadata": {},
   "source": [
    "# test pdb parser\n"
   ]
  },
  {
   "cell_type": "code",
   "execution_count": 3,
   "metadata": {},
   "outputs": [
    {
     "name": "stdout",
     "output_type": "stream",
     "text": [
      "['__class__', '__delattr__', '__dir__', '__doc__', '__eq__', '__format__', '__ge__', '__getattribute__', '__gt__', '__hash__', '__init__', '__init_subclass__', '__le__', '__lt__', '__module__', '__ne__', '__new__', '__reduce__', '__reduce_ex__', '__repr__', '__setattr__', '__sizeof__', '__str__', '__subclasshook__', 'get_all_frame_ca_coordinates', 'get_all_frame_coordinates', 'get_atoms', 'get_atoms_in_frame', 'get_ca_coordinates', 'get_coordinates', 'get_frame_ca_coordinates', 'get_frame_coordinates', 'get_frame_count', 'load']\n",
      "(20000, 3)\n",
      "(20, 3)\n",
      "1000\n",
      "(1000, 20, 3)\n"
     ]
    }
   ],
   "source": [
    "my_module = load_so_module(\"/home/yongjian/Yongjian_data/my_python/pythonknot/src/pdb_parser/build/pdb_parser.cpython-310-x86_64-linux-gnu.so\", \"pdb_parser\")\n",
    "\n",
    "# test PDBParser\n",
    "# list all function in PDBParser,\n",
    "# 'get_atoms', 'get_atoms_in_frame', 'get_ca_coordinates', 'get_coordinates', 'get_frame_ca_coordinates', 'get_frame_coordinates', 'get_frame_count', 'load'\n",
    "print(dir(my_module.PDBParser))\n",
    "pdb_parser = my_module.PDBParser()\n",
    "# test load and get_coordinates\n",
    "pdb_parser.load(\"test.pdb\")\n",
    "traj = pdb_parser.get_coordinates()\n",
    "print(traj.shape)\n",
    "\n",
    "# test get_atoms\n",
    "atoms = pdb_parser.get_atoms()\n",
    "\n",
    "# test get_atoms_in_frame\n",
    "atoms_in_frame = pdb_parser.get_atoms_in_frame(10)\n",
    "\n",
    "# test get_frame_ca_coordinates\n",
    "frame_ca_coordinates = pdb_parser.get_frame_ca_coordinates(10)\n",
    "print(frame_ca_coordinates.shape)\n",
    "\n",
    "# test get_frame_count\n",
    "frame_count = pdb_parser.get_frame_count()\n",
    "print(frame_count)\n",
    "\n",
    "# test \n",
    "traj = pdb_parser.get_all_frame_coordinates()\n",
    "print(traj.shape)"
   ]
  }
 ],
 "metadata": {
  "kernelspec": {
   "display_name": "yongjian_conda",
   "language": "python",
   "name": "python3"
  },
  "language_info": {
   "codemirror_mode": {
    "name": "ipython",
    "version": 3
   },
   "file_extension": ".py",
   "mimetype": "text/x-python",
   "name": "python",
   "nbconvert_exporter": "python",
   "pygments_lexer": "ipython3",
   "version": "3.10.16"
  }
 },
 "nbformat": 4,
 "nbformat_minor": 2
}
